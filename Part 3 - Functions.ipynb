{
 "metadata": {
  "name": ""
 },
 "nbformat": 3,
 "nbformat_minor": 0,
 "worksheets": [
  {
   "cells": [
    {
     "cell_type": "markdown",
     "metadata": {},
     "source": [
      "#Functions\n",
      "\n",
      "### Spoiler:  functions are good and you should feel good about using them.\n",
      "\n",
      "Functions achieve several goals:\n",
      "\n",
      "1. They avoid repetition\n",
      "2. They allow for **abstraction**\n",
      "3. They communicate intent\n",
      "4. They allow for testing and confidence in one's code\n",
      "5. They make debugging **easier**\n",
      "\n",
      "In order to use a function, you must first **declare** it."
     ]
    },
    {
     "cell_type": "code",
     "collapsed": false,
     "input": [
      "def addition(a, b):\n",
      "    \"\"\"This function returns the sum of the terms `a` and `b`\"\"\"\n",
      "    return a + b"
     ],
     "language": "python",
     "metadata": {},
     "outputs": [],
     "prompt_number": 1
    },
    {
     "cell_type": "markdown",
     "metadata": {},
     "source": [
      "Python functions have a few very helpful features:"
     ]
    },
    {
     "cell_type": "code",
     "collapsed": false,
     "input": [
      "addition?"
     ],
     "language": "python",
     "metadata": {},
     "outputs": [],
     "prompt_number": 3
    },
    {
     "cell_type": "markdown",
     "metadata": {},
     "source": [
      "Let's *call* our function:"
     ]
    },
    {
     "cell_type": "code",
     "collapsed": false,
     "input": [
      "addition(331, 681)"
     ],
     "language": "python",
     "metadata": {},
     "outputs": [
      {
       "metadata": {},
       "output_type": "pyout",
       "prompt_number": 5,
       "text": [
        "1012"
       ]
      }
     ],
     "prompt_number": 5
    },
    {
     "cell_type": "markdown",
     "metadata": {},
     "source": [
      "Let's observe how the function's *scope* differs from that of the *global scope*:"
     ]
    },
    {
     "cell_type": "code",
     "collapsed": false,
     "input": [
      "first_term = 1\n",
      "second_term = 2\n",
      "addition(first_term, second_term)"
     ],
     "language": "python",
     "metadata": {},
     "outputs": [
      {
       "metadata": {},
       "output_type": "pyout",
       "prompt_number": 6,
       "text": [
        "3"
       ]
      }
     ],
     "prompt_number": 6
    },
    {
     "cell_type": "markdown",
     "metadata": {},
     "source": [
      "What happened?\n",
      "\n",
      "- Our global variables were *aliased* within the function\n",
      "- Global variables are accessible from within a function (but this is **very bad practice**)\n",
      "- Function variables **are not** accessible from outside the function"
     ]
    },
    {
     "cell_type": "code",
     "collapsed": false,
     "input": [
      "x = 4\n",
      "y = 10\n",
      "\n",
      "def add_global():  # note that there are no parameters\n",
      "    return x + y  # bad, bad, bad, bad, bad!\n",
      "\n",
      "add_global()  # call the function"
     ],
     "language": "python",
     "metadata": {},
     "outputs": [
      {
       "metadata": {},
       "output_type": "pyout",
       "prompt_number": 7,
       "text": [
        "14"
       ]
      }
     ],
     "prompt_number": 7
    },
    {
     "cell_type": "code",
     "collapsed": false,
     "input": [
      "def add_local(a, b):\n",
      "    local_var = \"I'm a locally-scoped variable!\"\n",
      "    return a + b\n",
      "\n",
      "print add_local(3, 4)\n",
      "print local_var  # what will happen?"
     ],
     "language": "python",
     "metadata": {},
     "outputs": [
      {
       "ename": "NameError",
       "evalue": "name 'local_var' is not defined",
       "output_type": "pyerr",
       "traceback": [
        "\u001b[0;31m---------------------------------------------------------------------------\u001b[0m\n\u001b[0;31mNameError\u001b[0m                                 Traceback (most recent call last)",
        "\u001b[0;32m<ipython-input-8-96f1f1a5f141>\u001b[0m in \u001b[0;36m<module>\u001b[0;34m()\u001b[0m\n\u001b[1;32m      4\u001b[0m \u001b[0;34m\u001b[0m\u001b[0m\n\u001b[1;32m      5\u001b[0m \u001b[0;32mprint\u001b[0m \u001b[0madd_local\u001b[0m\u001b[0;34m(\u001b[0m\u001b[0;36m3\u001b[0m\u001b[0;34m,\u001b[0m \u001b[0;36m4\u001b[0m\u001b[0;34m)\u001b[0m\u001b[0;34m\u001b[0m\u001b[0m\n\u001b[0;32m----> 6\u001b[0;31m \u001b[0;32mprint\u001b[0m \u001b[0mlocal_var\u001b[0m\u001b[0;34m\u001b[0m\u001b[0m\n\u001b[0m",
        "\u001b[0;31mNameError\u001b[0m: name 'local_var' is not defined"
       ]
      },
      {
       "output_type": "stream",
       "stream": "stdout",
       "text": [
        "7\n"
       ]
      }
     ],
     "prompt_number": 8
    },
    {
     "cell_type": "markdown",
     "metadata": {},
     "source": [
      "##When should I use functions?\n",
      "\n",
      "- Often\n",
      "- When you find yourself doing the same operations over and over again\n",
      "- When you need to break a bigger problem into smaller pieces (so pretty  much all the time)"
     ]
    }
   ],
   "metadata": {}
  }
 ]
}